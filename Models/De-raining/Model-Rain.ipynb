{
 "cells": [
  {
   "cell_type": "code",
   "execution_count": 2,
   "id": "c6a19101-b8f8-41d6-852a-44356f29c5c3",
   "metadata": {},
   "outputs": [],
   "source": [
    "# Standard library\n",
    "import os  # For file and directory operations\n",
    "\n",
    "# Image processing\n",
    "from PIL import Image  # For loading and processing image files\n",
    "\n",
    "# PyTorch core\n",
    "import torch  # Core PyTorch library\n",
    "import torch.nn as nn  # Neural network modules\n",
    "\n",
    "# Data utilities\n",
    "from torch.utils.data import Dataset, DataLoader  # Custom dataset and batch loading\n",
    "\n",
    "# Image transformations and visualization\n",
    "import torchvision.transforms as transforms  # Common image transformations\n",
    "import torchvision.utils as vutils  # Utilities for saving and displaying image batches\n",
    "\n",
    "# Progress bar\n",
    "from tqdm import tqdm  # For progress bars during training and evaluation\n",
    "\n",
    "# Plotting\n",
    "import matplotlib.pyplot as plt  # For plotting loss curves, sample outputs, etc.\n",
    "\n",
    "# Numerical operations\n",
    "import numpy as np  # For array and numerical operations\n"
   ]
  },
  {
   "cell_type": "code",
   "execution_count": 3,
   "id": "af451afb-0081-4a77-af2c-bcc237f04ea3",
   "metadata": {},
   "outputs": [],
   "source": [
    "# Custom dataset for weather restoration tasks (e.g., deraining or dehazing)\n",
    "class WeatherRestorationDataset(Dataset):\n",
    "    def __init__(self, root_dir, weather_type='rain', train=True, transform=None):\n",
    "        self.transform = transform  # Image transformation pipeline (e.g., resizing, normalization)\n",
    "        subset = 'train' if train else 'test'  # Select subfolder based on training or testing mode\n",
    "\n",
    "        # Define input (degraded images) and ground truth (clean images) directories\n",
    "        input_dir = os.path.join(root_dir, weather_type, subset, 'rainy')  # or 'hazy' depending on weather_type\n",
    "        gt_dir = os.path.join(root_dir, weather_type, subset, 'GT')       # GT = Ground Truth\n",
    "\n",
    "        # Get sorted list of file paths for input and ground truth images\n",
    "        self.input_paths = sorted([os.path.join(input_dir, f) for f in os.listdir(input_dir)])\n",
    "        self.gt_paths = sorted([os.path.join(gt_dir, f) for f in os.listdir(gt_dir)])\n",
    "\n",
    "    def __len__(self):\n",
    "        return len(self.input_paths)  # Total number of samples in the dataset\n",
    "\n",
    "    def __getitem__(self, idx):\n",
    "        # Load input and ground truth images at the given index\n",
    "        input_img = Image.open(self.input_paths[idx]).convert('RGB')\n",
    "        gt_img = Image.open(self.gt_paths[idx]).convert('RGB')\n",
    "\n",
    "        # Apply transformations if specified\n",
    "        if self.transform:\n",
    "            input_img = self.transform(input_img)\n",
    "            gt_img = self.transform(gt_img)\n",
    "\n",
    "        # Return a tuple: (degraded image, ground truth image)\n",
    "        return input_img, gt_img\n"
   ]
  },
  {
   "cell_type": "code",
   "execution_count": 4,
   "id": "bf0cd12b-5063-459d-a58f-7e449634699e",
   "metadata": {},
   "outputs": [],
   "source": [
    "# A simplified and efficient version of the U-Net architecture for image-to-image restoration tasks\n",
    "class EfficientUNet(nn.Module):\n",
    "    def __init__(self, in_channels=3, out_channels=3):\n",
    "        super(EfficientUNet, self).__init__()\n",
    "\n",
    "        # Encoder: Downsampling path\n",
    "        self.encoder = nn.Sequential(\n",
    "            nn.Conv2d(in_channels, 64, kernel_size=3, padding=1),  # First convolution layer\n",
    "            nn.ReLU(),  # Non-linearity\n",
    "            nn.Conv2d(64, 64, kernel_size=3, padding=1),  # Second convolution layer\n",
    "            nn.ReLU(),  # Non-linearity\n",
    "            nn.MaxPool2d(2),  # Downsampling by a factor of 2\n",
    "        )\n",
    "\n",
    "        # Bottleneck / Middle block: Extract deeper features\n",
    "        self.middle = nn.Sequential(\n",
    "            nn.Conv2d(64, 128, kernel_size=3, padding=1),  # Expand feature maps\n",
    "            nn.ReLU(),\n",
    "            nn.Conv2d(128, 128, kernel_size=3, padding=1),  # Deep feature extraction\n",
    "            nn.ReLU(),\n",
    "        )\n",
    "\n",
    "        # Decoder: Upsampling path\n",
    "        self.decoder = nn.Sequential(\n",
    "            nn.ConvTranspose2d(128, 64, kernel_size=2, stride=2),  # Upsample to original resolution\n",
    "            nn.ReLU(),\n",
    "            nn.Conv2d(64, 64, kernel_size=3, padding=1),  # Refine feature map\n",
    "            nn.ReLU(),\n",
    "            nn.Conv2d(64, out_channels, kernel_size=3, padding=1),  # Final output layer\n",
    "            nn.Tanh()  # Output activation to normalize image between -1 and 1\n",
    "        )\n",
    "\n",
    "    def forward(self, x):\n",
    "        # Forward pass through encoder, middle, and decoder\n",
    "        x = self.encoder(x)\n",
    "        x = self.middle(x)\n",
    "        x = self.decoder(x)\n",
    "        return x  # Return restored image\n"
   ]
  },
  {
   "cell_type": "code",
   "execution_count": 5,
   "id": "b22263e2-1b65-47f4-8905-ead99ff2f129",
   "metadata": {},
   "outputs": [],
   "source": [
    "# Charbonnier Loss: A smooth approximation of L1 loss, more robust to outliers\n",
    "def charbonnier_loss(pred, gt, eps=1e-3):\n",
    "    return torch.mean(torch.sqrt((pred - gt) ** 2 + eps ** 2))  # Element-wise loss with stability epsilon\n",
    "\n",
    "# FFT Loss: Frequency domain loss to ensure similarity in both spatial and frequency domains\n",
    "def fft_loss(pred, gt):\n",
    "    pred_fft = torch.fft.fft2(pred, norm='ortho')  # Compute 2D Fourier Transform of predicted image\n",
    "    gt_fft = torch.fft.fft2(gt, norm='ortho')      # Compute 2D Fourier Transform of ground truth\n",
    "    return torch.mean(torch.abs(pred_fft - gt_fft))  # Mean absolute difference in frequency domain\n",
    "\n",
    "# Combined Loss: Weighted sum of Charbonnier loss and FFT loss\n",
    "def total_loss(pred, gt, lambda_fft=1e-2):\n",
    "    return charbonnier_loss(pred, gt) + lambda_fft * fft_loss(pred, gt)  # Lambda controls FFT loss weight\n",
    "\n",
    "# PSNR (Peak Signal-to-Noise Ratio): Measures image reconstruction quality (higher is better)\n",
    "def psnr(pred, target, max_val=1.0):\n",
    "    mse = torch.mean((pred - target) ** 2)  # Mean Squared Error\n",
    "    if mse == 0:\n",
    "        return float('inf')  # Perfect reconstruction\n",
    "    return 20 * torch.log10(max_val / torch.sqrt(mse))  # PSNR formula in decibels\n"
   ]
  },
  {
   "cell_type": "code",
   "execution_count": 30,
   "id": "e6fc3502-1927-4a5d-bf85-db28d79b9d5d",
   "metadata": {},
   "outputs": [],
   "source": [
    "# Function to train and evaluate the EfficientUNet model for weather restoration (rain/haze)\n",
    "def train_and_evaluate(root_dir='../Data', weather_type='rain', save_dir='outputs', num_epochs=0, batch_size=8):\n",
    "    # Create output directories for saving models and samples\n",
    "    os.makedirs(save_dir, exist_ok=True)\n",
    "    os.makedirs(os.path.join(save_dir, 'samples'), exist_ok=True)\n",
    "\n",
    "    # Select device: use GPU if available\n",
    "    device = torch.device(\"cuda\" if torch.cuda.is_available() else \"cpu\")\n",
    "\n",
    "    # Define image transformations (resize and convert to tensor)\n",
    "    transform = transforms.Compose([\n",
    "        transforms.Resize((256, 256)),\n",
    "        transforms.ToTensor()\n",
    "    ])\n",
    "\n",
    "    # Prepare training and testing datasets and data loaders\n",
    "    train_ds = WeatherRestorationDataset(root_dir, weather_type, train=True, transform=transform)\n",
    "    test_ds = WeatherRestorationDataset(root_dir, weather_type, train=False, transform=transform)\n",
    "    train_loader = DataLoader(train_ds, batch_size=batch_size, shuffle=True)\n",
    "    test_loader = DataLoader(test_ds, batch_size=1, shuffle=False)\n",
    "\n",
    "    # Initialize model and load pretrained weights (resuming from epoch 24)\n",
    "    model = EfficientUNet().to(device)\n",
    "    model.load_state_dict(torch.load('./outputs/model_epoch24.pth', map_location=device))\n",
    "\n",
    "    # Define optimizer\n",
    "    optimizer = torch.optim.Adam(model.parameters(), lr=1e-4)\n",
    "\n",
    "    train_losses = []  # To store average loss for each epoch\n",
    "\n",
    "    # Training loop\n",
    "    for epoch in range(num_epochs):\n",
    "        model.train()\n",
    "        total_loss_epoch = 0  # Track total loss per epoch\n",
    "\n",
    "        # Progress bar for training batches\n",
    "        pbar = tqdm(train_loader, desc=f\"Epoch {epoch+1+10}/{num_epochs}\", unit=\"batch\")\n",
    "\n",
    "        # Iterate over training data\n",
    "        for inputs, targets in pbar:\n",
    "            inputs, targets = inputs.to(device), targets.to(device)\n",
    "\n",
    "            optimizer.zero_grad()            # Clear gradients\n",
    "            outputs = model(inputs)          # Forward pass\n",
    "            loss = total_loss(outputs, targets)  # Compute total loss (Charbonnier + FFT)\n",
    "            loss.backward()                  # Backpropagation\n",
    "            optimizer.step()                 # Update weights\n",
    "\n",
    "            total_loss_epoch += loss.item()\n",
    "            pbar.set_postfix(loss=loss.item())  # Show current batch loss\n",
    "\n",
    "        # Store average loss of this epoch\n",
    "        avg_loss = total_loss_epoch / len(train_loader)\n",
    "        train_losses.append(avg_loss)\n",
    "\n",
    "        # Save model checkpoint for the current epoch\n",
    "        torch.save(model.state_dict(), os.path.join(save_dir, f\"model_epoch{epoch+10+1}.pth\"))\n",
    "\n",
    "    # Plot training loss curve\n",
    "    plt.figure()\n",
    "    plt.plot(range(1, num_epochs+1), train_losses, marker='o')\n",
    "    plt.title('Training Loss')\n",
    "    plt.xlabel('Epoch')\n",
    "    plt.ylabel('Loss')\n",
    "    plt.grid(True)\n",
    "    plt.savefig(os.path.join(save_dir, 'loss_curve.png'))\n",
    "\n",
    "    # Evaluation phase\n",
    "    model.eval()\n",
    "    all_psnr = []  # List to store PSNR scores\n",
    "\n",
    "    with torch.no_grad():\n",
    "        for inputs, targets in tqdm(test_loader, desc=\"Evaluating\", unit=\"img\"):\n",
    "            inputs, targets = inputs.to(device), targets.to(device)\n",
    "            outputs = model(inputs)\n",
    "\n",
    "            # Compute PSNR for each image\n",
    "            for i in range(outputs.size(0)):\n",
    "                score = psnr(outputs[i], targets[i])\n",
    "                all_psnr.append(score.item())\n",
    "\n",
    "        print(f\"Avg PSNR: {np.mean(all_psnr):.2f} dB\")\n",
    "\n",
    "        # Save a few sample outputs for visual comparison\n",
    "        inputs, targets = next(iter(test_loader))\n",
    "        inputs, targets = inputs.to(device), targets.to(device)\n",
    "        outputs = model(inputs)\n",
    "\n",
    "        for i in range(min(4, inputs.size(0))):\n",
    "            comparison = torch.cat([inputs[i], outputs[i], targets[i]], dim=2)  # Concatenate input, output, GT\n",
    "            vutils.save_image(comparison, os.path.join(save_dir, \"samples\", f\"sample_{i}.png\"), normalize=True)\n",
    "\n",
    "        # Plot histogram of PSNR scores\n",
    "        plt.figure()\n",
    "        plt.hist(all_psnr, bins=20, color='skyblue', edgecolor='black')\n",
    "        plt.title('PSNR Distribution on Test Set')\n",
    "        plt.xlabel('PSNR (dB)')\n",
    "        plt.ylabel('Frequency')\n",
    "        plt.grid(True)\n",
    "        plt.savefig(os.path.join(save_dir, 'psnr_distribution.png'))\n"
   ]
  },
  {
   "cell_type": "code",
   "execution_count": 31,
   "id": "1b3878b7-b9e6-4c6f-9f0e-d5ff555cd9d1",
   "metadata": {},
   "outputs": [
    {
     "name": "stderr",
     "output_type": "stream",
     "text": [
      "Evaluating: 100%|█████████████████████████████████████████████████████████████████| 2800/2800 [00:58<00:00, 48.00img/s]\n"
     ]
    },
    {
     "name": "stdout",
     "output_type": "stream",
     "text": [
      "Avg PSNR: 28.22 dB\n"
     ]
    },
    {
     "data": {
      "image/png": "[encoded data removed]",
      "text/plain": [
       "<Figure size 640x480 with 1 Axes>"
      ]
     },
     "metadata": {},
     "output_type": "display_data"
    },
    {
     "data": {
      "image/png": "[encoded data removed]",
      "text/plain": [
       "<Figure size 640x480 with 1 Axes>"
      ]
     },
     "metadata": {},
     "output_type": "display_data"
    }
   ],
   "source": [
    "train_and_evaluate()"
   ]
  },
  {
   "cell_type": "markdown",
   "id": "3971cfd8-6728-444c-825e-54e31d82579b",
   "metadata": {},
   "source": [
    "# Miscellaneous"
   ]
  },
  {
   "cell_type": "code",
   "execution_count": 11,
   "id": "cf7cbb89-3aa4-4b46-b35c-d846b840f1c1",
   "metadata": {},
   "outputs": [],
   "source": [
    "import os\n",
    "import torch\n",
    "import torch.nn as nn\n",
    "import matplotlib.pyplot as plt\n",
    "from tqdm import tqdm\n",
    "from torch.utils.data import DataLoader\n",
    "import torchvision.transforms as transforms\n",
    "\n",
    "\n",
    "def evaluate_saved_models_on_test_set(\n",
    "    root_dir='../Data',\n",
    "    weather_type='rain',\n",
    "    model_dir='./outputs',\n",
    "    start_epoch=1,\n",
    "    end_epoch=24,\n",
    "    batch_size=8,\n",
    "    save_plot=True\n",
    "):\n",
    "    device = torch.device(\"cuda\" if torch.cuda.is_available() else \"cpu\")\n",
    "    print(\"Using device:\", device)\n",
    "\n",
    "    transform = transforms.Compose([\n",
    "        transforms.Resize((256, 256)),\n",
    "        transforms.ToTensor()\n",
    "    ])\n",
    "\n",
    "    # Load test set\n",
    "    test_ds = WeatherRestorationDataset(root_dir, weather_type, train=False, transform=transform)\n",
    "    test_loader = DataLoader(test_ds, batch_size=batch_size, shuffle=False)\n",
    "\n",
    "    eval_losses = []\n",
    "\n",
    "    for epoch in range(start_epoch, end_epoch + 1):\n",
    "        model = EfficientUNet().to(device)\n",
    "        model_path = os.path.join(model_dir, f\"model_epoch{epoch}.pth\")\n",
    "        if not os.path.exists(model_path):\n",
    "            print(f\"Model file {model_path} not found, skipping...\")\n",
    "            continue\n",
    "\n",
    "        model.load_state_dict(torch.load(model_path, map_location=device))\n",
    "        model.eval()\n",
    "\n",
    "        total_loss_epoch = 0.0\n",
    "        num_batches = 0\n",
    "\n",
    "        with torch.no_grad():\n",
    "            pbar = tqdm(test_loader, desc=f\"Evaluating Epoch {epoch}\", unit=\"batch\")\n",
    "            for inputs, targets in pbar:\n",
    "                inputs, targets = inputs.to(device), targets.to(device)\n",
    "                outputs = model(inputs)\n",
    "                loss = total_loss(outputs, targets)\n",
    "                total_loss_epoch += loss.item()\n",
    "                num_batches += 1\n",
    "                pbar.set_postfix(avg_loss=total_loss_epoch / num_batches)\n",
    "\n",
    "        avg_loss = total_loss_epoch / num_batches\n",
    "        print(f\"Epoch {epoch} - Test Loss: {avg_loss:.6f}\")\n",
    "        eval_losses.append((epoch, avg_loss))\n",
    "\n",
    "    # Plot\n",
    "    if save_plot:\n",
    "        epochs = [e for e, _ in eval_losses]\n",
    "        losses = [l for _, l in eval_losses]\n",
    "        plt.figure(figsize=(8, 5))\n",
    "        plt.plot(epochs, losses, marker='o')\n",
    "        plt.title(f\"Test Loss per Epoch ({weather_type})\")\n",
    "        plt.xlabel(\"Epoch\")\n",
    "        plt.ylabel(\"Loss\")\n",
    "        plt.grid(True)\n",
    "        plt.savefig(os.path.join(model_dir, f\"test_loss_curve_{weather_type}.png\"))\n",
    "        plt.show()\n",
    "\n",
    "    return eval_losses\n"
   ]
  },
  {
   "cell_type": "code",
   "execution_count": 12,
   "id": "ba82cf5b-5a98-4534-8c82-491923e84986",
   "metadata": {
    "scrolled": true
   },
   "outputs": [
    {
     "name": "stdout",
     "output_type": "stream",
     "text": [
      "Using device: cuda\n"
     ]
    },
    {
     "name": "stderr",
     "output_type": "stream",
     "text": [
      "Evaluating Epoch 1: 100%|████████████████████████████████████████| 350/350 [00:47<00:00,  7.30batch/s, avg_loss=0.0411]\n"
     ]
    },
    {
     "name": "stdout",
     "output_type": "stream",
     "text": [
      "Epoch 1 - Test Loss: 0.041064\n"
     ]
    },
    {
     "name": "stderr",
     "output_type": "stream",
     "text": [
      "Evaluating Epoch 2: 100%|████████████████████████████████████████| 350/350 [00:52<00:00,  6.61batch/s, avg_loss=0.0399]\n"
     ]
    },
    {
     "name": "stdout",
     "output_type": "stream",
     "text": [
      "Epoch 2 - Test Loss: 0.039918\n"
     ]
    },
    {
     "name": "stderr",
     "output_type": "stream",
     "text": [
      "Evaluating Epoch 3: 100%|████████████████████████████████████████| 350/350 [01:04<00:00,  5.40batch/s, avg_loss=0.0371]\n"
     ]
    },
    {
     "name": "stdout",
     "output_type": "stream",
     "text": [
      "Epoch 3 - Test Loss: 0.037069\n"
     ]
    },
    {
     "name": "stderr",
     "output_type": "stream",
     "text": [
      "Evaluating Epoch 4: 100%|████████████████████████████████████████| 350/350 [01:04<00:00,  5.40batch/s, avg_loss=0.0357]\n"
     ]
    },
    {
     "name": "stdout",
     "output_type": "stream",
     "text": [
      "Epoch 4 - Test Loss: 0.035728\n"
     ]
    },
    {
     "name": "stderr",
     "output_type": "stream",
     "text": [
      "Evaluating Epoch 5: 100%|████████████████████████████████████████| 350/350 [01:03<00:00,  5.54batch/s, avg_loss=0.0331]\n"
     ]
    },
    {
     "name": "stdout",
     "output_type": "stream",
     "text": [
      "Epoch 5 - Test Loss: 0.033066\n"
     ]
    },
    {
     "name": "stderr",
     "output_type": "stream",
     "text": [
      "Evaluating Epoch 6: 100%|████████████████████████████████████████| 350/350 [01:04<00:00,  5.40batch/s, avg_loss=0.0348]\n"
     ]
    },
    {
     "name": "stdout",
     "output_type": "stream",
     "text": [
      "Epoch 6 - Test Loss: 0.034756\n"
     ]
    },
    {
     "name": "stderr",
     "output_type": "stream",
     "text": [
      "Evaluating Epoch 7: 100%|████████████████████████████████████████| 350/350 [01:05<00:00,  5.36batch/s, avg_loss=0.0342]\n"
     ]
    },
    {
     "name": "stdout",
     "output_type": "stream",
     "text": [
      "Epoch 7 - Test Loss: 0.034155\n"
     ]
    },
    {
     "name": "stderr",
     "output_type": "stream",
     "text": [
      "Evaluating Epoch 8: 100%|████████████████████████████████████████| 350/350 [01:06<00:00,  5.27batch/s, avg_loss=0.0315]\n"
     ]
    },
    {
     "name": "stdout",
     "output_type": "stream",
     "text": [
      "Epoch 8 - Test Loss: 0.031496\n"
     ]
    },
    {
     "name": "stderr",
     "output_type": "stream",
     "text": [
      "Evaluating Epoch 9: 100%|████████████████████████████████████████| 350/350 [01:10<00:00,  4.98batch/s, avg_loss=0.0331]\n"
     ]
    },
    {
     "name": "stdout",
     "output_type": "stream",
     "text": [
      "Epoch 9 - Test Loss: 0.033092\n"
     ]
    },
    {
     "name": "stderr",
     "output_type": "stream",
     "text": [
      "Evaluating Epoch 10: 100%|███████████████████████████████████████| 350/350 [01:09<00:00,  5.07batch/s, avg_loss=0.0338]\n"
     ]
    },
    {
     "name": "stdout",
     "output_type": "stream",
     "text": [
      "Epoch 10 - Test Loss: 0.033827\n"
     ]
    },
    {
     "name": "stderr",
     "output_type": "stream",
     "text": [
      "Evaluating Epoch 11: 100%|█████████████████████████████████████████| 350/350 [02:16<00:00,  2.57batch/s, avg_loss=0.03]\n"
     ]
    },
    {
     "name": "stdout",
     "output_type": "stream",
     "text": [
      "Epoch 11 - Test Loss: 0.030001\n"
     ]
    },
    {
     "name": "stderr",
     "output_type": "stream",
     "text": [
      "Evaluating Epoch 12: 100%|███████████████████████████████████████| 350/350 [02:39<00:00,  2.19batch/s, avg_loss=0.0327]\n"
     ]
    },
    {
     "name": "stdout",
     "output_type": "stream",
     "text": [
      "Epoch 12 - Test Loss: 0.032670\n"
     ]
    },
    {
     "name": "stderr",
     "output_type": "stream",
     "text": [
      "Evaluating Epoch 13: 100%|███████████████████████████████████████| 350/350 [02:39<00:00,  2.20batch/s, avg_loss=0.0299]\n"
     ]
    },
    {
     "name": "stdout",
     "output_type": "stream",
     "text": [
      "Epoch 13 - Test Loss: 0.029858\n"
     ]
    },
    {
     "name": "stderr",
     "output_type": "stream",
     "text": [
      "Evaluating Epoch 14: 100%|███████████████████████████████████████| 350/350 [02:39<00:00,  2.20batch/s, avg_loss=0.0301]\n"
     ]
    },
    {
     "name": "stdout",
     "output_type": "stream",
     "text": [
      "Epoch 14 - Test Loss: 0.030143\n"
     ]
    },
    {
     "name": "stderr",
     "output_type": "stream",
     "text": [
      "Evaluating Epoch 15: 100%|████████████████████████████████████████| 350/350 [02:39<00:00,  2.19batch/s, avg_loss=0.033]\n"
     ]
    },
    {
     "name": "stdout",
     "output_type": "stream",
     "text": [
      "Epoch 15 - Test Loss: 0.033028\n"
     ]
    },
    {
     "name": "stderr",
     "output_type": "stream",
     "text": [
      "Evaluating Epoch 16: 100%|███████████████████████████████████████| 350/350 [02:39<00:00,  2.20batch/s, avg_loss=0.0309]\n"
     ]
    },
    {
     "name": "stdout",
     "output_type": "stream",
     "text": [
      "Epoch 16 - Test Loss: 0.030866\n"
     ]
    },
    {
     "name": "stderr",
     "output_type": "stream",
     "text": [
      "Evaluating Epoch 17: 100%|████████████████████████████████████████| 350/350 [02:39<00:00,  2.20batch/s, avg_loss=0.031]\n"
     ]
    },
    {
     "name": "stdout",
     "output_type": "stream",
     "text": [
      "Epoch 17 - Test Loss: 0.031009\n"
     ]
    },
    {
     "name": "stderr",
     "output_type": "stream",
     "text": [
      "Evaluating Epoch 18: 100%|███████████████████████████████████████| 350/350 [03:13<00:00,  1.81batch/s, avg_loss=0.0276]\n"
     ]
    },
    {
     "name": "stdout",
     "output_type": "stream",
     "text": [
      "Epoch 18 - Test Loss: 0.027582\n"
     ]
    },
    {
     "name": "stderr",
     "output_type": "stream",
     "text": [
      "Evaluating Epoch 19: 100%|███████████████████████████████████████| 350/350 [03:02<00:00,  1.91batch/s, avg_loss=0.0288]\n"
     ]
    },
    {
     "name": "stdout",
     "output_type": "stream",
     "text": [
      "Epoch 19 - Test Loss: 0.028845\n"
     ]
    },
    {
     "name": "stderr",
     "output_type": "stream",
     "text": [
      "Evaluating Epoch 20: 100%|███████████████████████████████████████| 350/350 [02:53<00:00,  2.02batch/s, avg_loss=0.0287]\n"
     ]
    },
    {
     "name": "stdout",
     "output_type": "stream",
     "text": [
      "Epoch 20 - Test Loss: 0.028729\n"
     ]
    },
    {
     "name": "stderr",
     "output_type": "stream",
     "text": [
      "Evaluating Epoch 21: 100%|███████████████████████████████████████| 350/350 [02:42<00:00,  2.15batch/s, avg_loss=0.0297]\n"
     ]
    },
    {
     "name": "stdout",
     "output_type": "stream",
     "text": [
      "Epoch 21 - Test Loss: 0.029742\n"
     ]
    },
    {
     "name": "stderr",
     "output_type": "stream",
     "text": [
      "Evaluating Epoch 22: 100%|███████████████████████████████████████| 350/350 [03:30<00:00,  1.66batch/s, avg_loss=0.0291]\n"
     ]
    },
    {
     "name": "stdout",
     "output_type": "stream",
     "text": [
      "Epoch 22 - Test Loss: 0.029113\n"
     ]
    },
    {
     "name": "stderr",
     "output_type": "stream",
     "text": [
      "Evaluating Epoch 23: 100%|███████████████████████████████████████| 350/350 [03:40<00:00,  1.59batch/s, avg_loss=0.0274]\n"
     ]
    },
    {
     "name": "stdout",
     "output_type": "stream",
     "text": [
      "Epoch 23 - Test Loss: 0.027417\n"
     ]
    },
    {
     "name": "stderr",
     "output_type": "stream",
     "text": [
      "Evaluating Epoch 24: 100%|███████████████████████████████████████| 350/350 [04:39<00:00,  1.25batch/s, avg_loss=0.0282]\n"
     ]
    },
    {
     "name": "stdout",
     "output_type": "stream",
     "text": [
      "Epoch 24 - Test Loss: 0.028231\n"
     ]
    },
    {
     "data": {
      "image/png": "[encoded data removed]",
      "text/plain": [
       "<Figure size 800x500 with 1 Axes>"
      ]
     },
     "metadata": {},
     "output_type": "display_data"
    },
    {
     "data": {
      "text/plain": [
       "[(1, 0.041063712547932354),\n",
       " (2, 0.03991810046136379),\n",
       " (3, 0.03706888857696738),\n",
       " (4, 0.035728120638855866),\n",
       " (5, 0.0330661414829748),\n",
       " (6, 0.03475591508405549),\n",
       " (7, 0.0341552510964019),\n",
       " (8, 0.03149571073906762),\n",
       " (9, 0.03309224189392158),\n",
       " (10, 0.03382700026567493),\n",
       " (11, 0.03000100804226739),\n",
       " (12, 0.03267045129622732),\n",
       " (13, 0.029858074145657675),\n",
       " (14, 0.03014316732862166),\n",
       " (15, 0.03302827445524079),\n",
       " (16, 0.030865717131112302),\n",
       " (17, 0.03100928075079407),\n",
       " (18, 0.02758220677397081),\n",
       " (19, 0.02884489947663886),\n",
       " (20, 0.02872895460575819),\n",
       " (21, 0.029741511142679623),\n",
       " (22, 0.029112885503896645),\n",
       " (23, 0.02741702943508114),\n",
       " (24, 0.028231440830443585)]"
      ]
     },
     "execution_count": 12,
     "metadata": {},
     "output_type": "execute_result"
    }
   ],
   "source": [
    "evaluate_saved_models_on_test_set()"
   ]
  },
  {
   "cell_type": "code",
   "execution_count": 9,
   "id": "3cb02a52-2727-40b2-a10b-15af43509180",
   "metadata": {},
   "outputs": [],
   "source": [
    "import os\n",
    "import torch\n",
    "import torchvision.utils as vutils\n",
    "from torch.utils.data import DataLoader, Subset\n",
    "from tqdm import tqdm\n",
    "import matplotlib.pyplot as plt\n",
    "import numpy as np\n",
    "from torchvision import transforms\n",
    "import random\n",
    "\n",
    "def evaluate_model(root_dir='../Data', weather_type='rain', save_dir='outputs_eval', max_samples=20):\n",
    "    os.makedirs(save_dir, exist_ok=True)\n",
    "    os.makedirs(os.path.join(save_dir, 'samples'), exist_ok=True)\n",
    "\n",
    "    device = torch.device(\"cuda\" if torch.cuda.is_available() else \"cpu\")\n",
    "    transform = transforms.Compose([\n",
    "        transforms.Resize((256, 256)),\n",
    "        transforms.ToTensor()\n",
    "    ])\n",
    "\n",
    "    test_ds = WeatherRestorationDataset(root_dir, weather_type, train=False, transform=transform)\n",
    "    test_loader = DataLoader(test_ds, batch_size=1, shuffle=False)\n",
    "\n",
    "    model = EfficientUNet().to(device)\n",
    "    model.load_state_dict(torch.load('./outputs/model_epoch24.pth', map_location=device))\n",
    "    model.eval()\n",
    "\n",
    "    all_psnr = []\n",
    "    predictions = []\n",
    "\n",
    "    with torch.no_grad():\n",
    "        for inputs, targets in tqdm(test_loader, desc=\"Evaluating\", unit=\"img\"):\n",
    "            inputs, targets = inputs.to(device), targets.to(device)\n",
    "            outputs = model(inputs)\n",
    "            psnr_score = psnr(outputs[0], targets[0])\n",
    "            all_psnr.append(psnr_score.item())\n",
    "            predictions.append((inputs.cpu(), outputs.cpu(), targets.cpu()))\n",
    "\n",
    "    print(f\"Avg PSNR: {np.mean(all_psnr):.2f} dB\")\n",
    "\n",
    "    # Save random sample outputs\n",
    "    sample_indices = random.sample(range(len(predictions)), min(max_samples, len(predictions)))\n",
    "    for idx, i in enumerate(sample_indices):\n",
    "        input_img, output_img, target_img = predictions[i]\n",
    "        comparison = torch.cat([input_img[0], output_img[0], target_img[0]], dim=2)\n",
    "        vutils.save_image(comparison, os.path.join(save_dir, \"samples\", f\"sample_{idx}.png\"), normalize=True)\n",
    "\n",
    "    # PSNR histogram\n",
    "    plt.figure()\n",
    "    plt.hist(all_psnr, bins=20, color='skyblue', edgecolor='black')\n",
    "    plt.title('PSNR Distribution on Test Set')\n",
    "    plt.xlabel('PSNR (dB)')\n",
    "    plt.ylabel('Frequency')\n",
    "    plt.grid(True)\n",
    "    plt.savefig(os.path.join(save_dir, 'psnr_distribution.png'))\n"
   ]
  },
  {
   "cell_type": "code",
   "execution_count": 10,
   "id": "df938ad9-f202-4136-8017-7cdb2634c498",
   "metadata": {},
   "outputs": [
    {
     "name": "stderr",
     "output_type": "stream",
     "text": [
      "Evaluating: 100%|█████████████████████████████████████████████████████████████████| 2800/2800 [03:07<00:00, 14.97img/s]\n"
     ]
    },
    {
     "name": "stdout",
     "output_type": "stream",
     "text": [
      "Avg PSNR: 28.22 dB\n"
     ]
    },
    {
     "data": {
      "image/png": "[encoded data removed]",
      "text/plain": [
       "<Figure size 640x480 with 1 Axes>"
      ]
     },
     "metadata": {},
     "output_type": "display_data"
    }
   ],
   "source": [
    "evaluate_model()"
   ]
  },
  {
   "cell_type": "code",
   "execution_count": null,
   "id": "1c2165c3-c3cc-49f1-b416-985a1bcb16e9",
   "metadata": {},
   "outputs": [],
   "source": []
  }
 ],
 "metadata": {
  "kernelspec": {
   "display_name": "Python 3 (ipykernel)",
   "language": "python",
   "name": "python3"
  },
  "language_info": {
   "codemirror_mode": {
    "name": "ipython",
    "version": 3
   },
   "file_extension": ".py",
   "mimetype": "text/x-python",
   "name": "python",
   "nbconvert_exporter": "python",
   "pygments_lexer": "ipython3",
   "version": "3.10.16"
  }
 },
 "nbformat": 4,
 "nbformat_minor": 5
}
